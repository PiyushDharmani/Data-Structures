{
 "cells": [
  {
   "cell_type": "code",
   "execution_count": 148,
   "metadata": {},
   "outputs": [],
   "source": [
    "from collections import deque "
   ]
  },
  {
   "cell_type": "code",
   "execution_count": 291,
   "metadata": {},
   "outputs": [],
   "source": [
    "class binary_tree:\n",
    "    def __init__(self,data):\n",
    "        self.data = data\n",
    "        self.left = None\n",
    "        self.right = None \n",
    "    \n",
    "def insert(root,data):\n",
    "    new_node=binary_tree(data)\n",
    "    if root is None:\n",
    "        root=new_node\n",
    "        return root\n",
    "    q=deque()\n",
    "    q.append(root)\n",
    "    node=None\n",
    "    while not len(q)==0:\n",
    "        node = q.popleft()\n",
    "        if data == node.data:\n",
    "            return root\n",
    "        if node.left is not None:\n",
    "            q.append(node.left)\n",
    "        else:\n",
    "            node.left=new_node\n",
    "            return root\n",
    "        if node.right is not None:\n",
    "            q.append(node.right)\n",
    "        else:\n",
    "            node.right = new_node\n",
    "            return root\n",
    "\n",
    "def pre_order(root):\n",
    "    if not root:\n",
    "        return\n",
    "    print(root.data,end=\" \")\n",
    "        \n",
    "    pre_order(root.left)\n",
    "        \n",
    "    pre_order(root.right)\n",
    "        \n",
    "            \n",
    "def in_order(root):\n",
    "    if not root:\n",
    "        return\n",
    "    in_order(root.left)\n",
    "        \n",
    "    print(root.data,end=\" \")\n",
    "        \n",
    "    in_order(root.right)  \n",
    "        \n",
    "def post_order(root):\n",
    "    if not root:\n",
    "        return\n",
    "    post_order(root.left)\n",
    "        \n",
    "    post_order(root.right)\n",
    "        \n",
    "    print(root.data,end=\" \")\n",
    "\n",
    "def level_order(root):\n",
    "    if root is None:\n",
    "        return \n",
    "    q=deque()\n",
    "    q.append(root)\n",
    "    node=None\n",
    "    while not len(q)==0:\n",
    "        node = q.popleft()\n",
    "        print(node.data,end=\" \")\n",
    "        if node.left is not None:\n",
    "            q.append(node.left)\n",
    "        if node.right is not None:\n",
    "            q.append(node.right)\n",
    "ptr=0\n",
    "def diameter(root):\n",
    "    global ptr\n",
    "    if root==None:\n",
    "        return 0\n",
    "    left = diameter(root.left)\n",
    "    right = diameter(root.right)\n",
    "    if left+right>ptr:\n",
    "        ptr = left+right\n",
    "    return max(left,right)+1\n",
    "def max_depth(root):\n",
    "    if root == None:\n",
    "        return 0 \n",
    "    return max(max_depth(root.left), max_depth(root.right))+1\n"
   ]
  },
  {
   "cell_type": "code",
   "execution_count": 292,
   "metadata": {},
   "outputs": [],
   "source": [
    "b1 = binary_tree(1)"
   ]
  },
  {
   "cell_type": "code",
   "execution_count": 293,
   "metadata": {},
   "outputs": [
    {
     "data": {
      "text/plain": [
       "<__main__.binary_tree at 0x2340634a978>"
      ]
     },
     "execution_count": 293,
     "metadata": {},
     "output_type": "execute_result"
    }
   ],
   "source": [
    "insert(b1,2)\n",
    "insert(b1,3)\n",
    "insert(b1,4)\n",
    "insert(b1,5)\n",
    "insert(b1,6)\n",
    "insert(b1,7)\n"
   ]
  },
  {
   "cell_type": "code",
   "execution_count": 294,
   "metadata": {},
   "outputs": [
    {
     "name": "stdout",
     "output_type": "stream",
     "text": [
      "1 2 4 5 3 6 7 "
     ]
    }
   ],
   "source": [
    "pre_order(b1)"
   ]
  },
  {
   "cell_type": "code",
   "execution_count": 295,
   "metadata": {},
   "outputs": [
    {
     "name": "stdout",
     "output_type": "stream",
     "text": [
      "1 2 3 4 5 6 7 "
     ]
    }
   ],
   "source": [
    "level_order(b1)"
   ]
  },
  {
   "cell_type": "code",
   "execution_count": 296,
   "metadata": {},
   "outputs": [
    {
     "data": {
      "text/plain": [
       "3"
      ]
     },
     "execution_count": 296,
     "metadata": {},
     "output_type": "execute_result"
    }
   ],
   "source": [
    "diameter(b1)"
   ]
  },
  {
   "cell_type": "code",
   "execution_count": 297,
   "metadata": {},
   "outputs": [
    {
     "data": {
      "text/plain": [
       "3"
      ]
     },
     "execution_count": 297,
     "metadata": {},
     "output_type": "execute_result"
    }
   ],
   "source": [
    "max_depth(b1)"
   ]
  },
  {
   "cell_type": "code",
   "execution_count": null,
   "metadata": {},
   "outputs": [],
   "source": []
  }
 ],
 "metadata": {
  "kernelspec": {
   "display_name": "Python 3",
   "language": "python",
   "name": "python3"
  },
  "language_info": {
   "codemirror_mode": {
    "name": "ipython",
    "version": 3
   },
   "file_extension": ".py",
   "mimetype": "text/x-python",
   "name": "python",
   "nbconvert_exporter": "python",
   "pygments_lexer": "ipython3",
   "version": "3.7.1"
  }
 },
 "nbformat": 4,
 "nbformat_minor": 2
}
