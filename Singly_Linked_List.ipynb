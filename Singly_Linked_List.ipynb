{
 "cells": [
  {
   "cell_type": "code",
   "execution_count": 421,
   "metadata": {},
   "outputs": [],
   "source": [
    "class Node:\n",
    "    def __init__(self):\n",
    "        self.data=None\n",
    "        self.next=None\n",
    "    \n",
    "    def set_data(self,data):\n",
    "        self.data=data\n",
    "    \n",
    "    def get_data(self):\n",
    "        return self.data\n",
    "    \n",
    "    def set_next(self,next):\n",
    "        self.next=next\n",
    "        \n",
    "    def get_next(self):\n",
    "        return self.next\n",
    "    \n",
    "    def has_next(self):\n",
    "        return self.next != None\n",
    "class Slinked_list:\n",
    "    \n",
    "    def __init__(self):\n",
    "        self.head = None\n",
    "        self.length = 0\n",
    "    \n",
    "    def list_length(self):\n",
    "        current = self.head\n",
    "        count = 0\n",
    "        \n",
    "        while current != None:\n",
    "            print(current.data,end=\" \")\n",
    "            count+=1\n",
    "            current = current.get_next()\n",
    "            \n",
    "        \n",
    "        return count\n",
    "    \n",
    "    def insert_begining(self,data):\n",
    "        new_node = Node()\n",
    "        new_node.set_data(data)\n",
    "    \n",
    "        if self.length == 0:\n",
    "            self.head = new_node\n",
    "        else:\n",
    "            new_node.set_next(self.head)\n",
    "            self.head = new_node\n",
    "            \n",
    "        self.length+=1\n",
    "    \n",
    "    def insert_pos(self,pos,data):\n",
    "        if pos<0  or pos > self.length:\n",
    "            return None\n",
    "        else:\n",
    "            if pos==0:\n",
    "                self.insert_begining(data)\n",
    "            else:\n",
    "                if pos == self.length:\n",
    "                    self.insert_end(data)\n",
    "                else:\n",
    "                    new_node = Node()\n",
    "                    new_node.set_data(data)\n",
    "                    count = 1\n",
    "                    current = self.head\n",
    "                    while count < pos-1:\n",
    "                        count+=1\n",
    "                        current = current.get_next()\n",
    "                    new_node.set_next(current.get_next())\n",
    "                    current.set_next(new_node)\n",
    "                    self.length+=1\n",
    "    \n",
    "    \n",
    "    def insert_end(self,data):\n",
    "        new_node = Node()\n",
    "        new_node.set_data(data)\n",
    "        \n",
    "        current = self.head\n",
    "        \n",
    "        while current.get_next() != None:\n",
    "            current = current.get_next()\n",
    "        \n",
    "        current.set_next(new_node)\n",
    "        \n",
    "        self.length+=1\n",
    "        \n",
    "    def delete_begining(self):\n",
    "        if self.length==0:\n",
    "            print('list empty')\n",
    "        else:\n",
    "            self.head = self.head.get_next()\n",
    "            \n",
    "            self.length-=1\n",
    "    \n",
    "    def delete_end(self):\n",
    "        if self.length==0:\n",
    "            print('list empty')\n",
    "        else:\n",
    "            if self.length==1:\n",
    "                delete_begining()\n",
    "            else:\n",
    "                current = self.head\n",
    "                previous = self.head\n",
    "                while current.get_next() != None:\n",
    "                    previous = current\n",
    "                    current = current.get_next()\n",
    "                previous.set_next(None)\n",
    "            self.length-=1\n",
    "    \n",
    "    def delete_data(self,value):\n",
    "        current = self.head\n",
    "        previous = self.head\n",
    "        print(current.data)\n",
    "        print(value)\n",
    "        if current.data==value: #first node\n",
    "            self.head = self.head.get_next()\n",
    "        else:\n",
    "            while current.next!=None or current.data != value:\n",
    "                if current.data == value:\n",
    "                    previous.next=current.next\n",
    "                    self.length-=1\n",
    "                    return\n",
    "                else:\n",
    "                    previous = current\n",
    "                    current = current.get_next()\n",
    "            if current.next==None or current.data == value: #last node\n",
    "                self.delete_end()\n",
    "            else:\n",
    "                print('data not present')\n",
    "            \n",
    "    def clear(self):\n",
    "        self.head=None\n",
    "                \n",
    "        \n",
    "        "
   ]
  },
  {
   "cell_type": "code",
   "execution_count": null,
   "metadata": {},
   "outputs": [],
   "source": []
  },
  {
   "cell_type": "code",
   "execution_count": null,
   "metadata": {},
   "outputs": [],
   "source": [
    "\n"
   ]
  },
  {
   "cell_type": "code",
   "execution_count": null,
   "metadata": {},
   "outputs": [],
   "source": []
  },
  {
   "cell_type": "code",
   "execution_count": null,
   "metadata": {},
   "outputs": [],
   "source": [
    "\n"
   ]
  },
  {
   "cell_type": "code",
   "execution_count": null,
   "metadata": {},
   "outputs": [],
   "source": []
  },
  {
   "cell_type": "code",
   "execution_count": null,
   "metadata": {},
   "outputs": [],
   "source": []
  },
  {
   "cell_type": "code",
   "execution_count": null,
   "metadata": {},
   "outputs": [],
   "source": []
  },
  {
   "cell_type": "code",
   "execution_count": null,
   "metadata": {},
   "outputs": [],
   "source": []
  },
  {
   "cell_type": "code",
   "execution_count": null,
   "metadata": {},
   "outputs": [],
   "source": []
  },
  {
   "cell_type": "code",
   "execution_count": null,
   "metadata": {},
   "outputs": [],
   "source": []
  },
  {
   "cell_type": "code",
   "execution_count": null,
   "metadata": {},
   "outputs": [],
   "source": []
  },
  {
   "cell_type": "code",
   "execution_count": null,
   "metadata": {},
   "outputs": [],
   "source": []
  },
  {
   "cell_type": "code",
   "execution_count": null,
   "metadata": {},
   "outputs": [],
   "source": []
  },
  {
   "cell_type": "code",
   "execution_count": null,
   "metadata": {},
   "outputs": [],
   "source": []
  },
  {
   "cell_type": "code",
   "execution_count": null,
   "metadata": {},
   "outputs": [],
   "source": []
  },
  {
   "cell_type": "code",
   "execution_count": null,
   "metadata": {},
   "outputs": [],
   "source": []
  },
  {
   "cell_type": "code",
   "execution_count": null,
   "metadata": {},
   "outputs": [],
   "source": []
  },
  {
   "cell_type": "code",
   "execution_count": 419,
   "metadata": {},
   "outputs": [],
   "source": [
    "l1.clear()"
   ]
  },
  {
   "cell_type": "code",
   "execution_count": 420,
   "metadata": {},
   "outputs": [
    {
     "data": {
      "text/plain": [
       "0"
      ]
     },
     "execution_count": 420,
     "metadata": {},
     "output_type": "execute_result"
    }
   ],
   "source": [
    "l1.list_length()"
   ]
  },
  {
   "cell_type": "code",
   "execution_count": null,
   "metadata": {},
   "outputs": [],
   "source": []
  },
  {
   "cell_type": "code",
   "execution_count": null,
   "metadata": {},
   "outputs": [],
   "source": []
  },
  {
   "cell_type": "code",
   "execution_count": null,
   "metadata": {},
   "outputs": [],
   "source": []
  },
  {
   "cell_type": "code",
   "execution_count": null,
   "metadata": {},
   "outputs": [],
   "source": []
  },
  {
   "cell_type": "code",
   "execution_count": null,
   "metadata": {},
   "outputs": [],
   "source": []
  },
  {
   "cell_type": "code",
   "execution_count": null,
   "metadata": {},
   "outputs": [],
   "source": []
  },
  {
   "cell_type": "code",
   "execution_count": null,
   "metadata": {},
   "outputs": [],
   "source": []
  },
  {
   "cell_type": "code",
   "execution_count": null,
   "metadata": {},
   "outputs": [],
   "source": []
  },
  {
   "cell_type": "code",
   "execution_count": null,
   "metadata": {},
   "outputs": [],
   "source": []
  },
  {
   "cell_type": "code",
   "execution_count": null,
   "metadata": {},
   "outputs": [],
   "source": []
  },
  {
   "cell_type": "code",
   "execution_count": null,
   "metadata": {},
   "outputs": [],
   "source": []
  }
 ],
 "metadata": {
  "kernelspec": {
   "display_name": "Python 3",
   "language": "python",
   "name": "python3"
  },
  "language_info": {
   "codemirror_mode": {
    "name": "ipython",
    "version": 3
   },
   "file_extension": ".py",
   "mimetype": "text/x-python",
   "name": "python",
   "nbconvert_exporter": "python",
   "pygments_lexer": "ipython3",
   "version": "3.7.1"
  }
 },
 "nbformat": 4,
 "nbformat_minor": 2
}
