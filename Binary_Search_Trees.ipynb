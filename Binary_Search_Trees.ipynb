{
 "cells": [
  {
   "cell_type": "code",
   "execution_count": 72,
   "metadata": {},
   "outputs": [],
   "source": [
    "class BST:\n",
    "    \n",
    "    def __init__(self,data):\n",
    "        self.data=data\n",
    "        self.left=None\n",
    "        self.right=None\n",
    "\n",
    "def insert(root,data):\n",
    "    new_node = BST(data)\n",
    "    \n",
    "    if root == None:\n",
    "        root = new_node\n",
    "    else:\n",
    "        if data < root.data:\n",
    "            if root.left==None:\n",
    "                root.left=new_node\n",
    "            else:\n",
    "                return insert(root.right,data)\n",
    "        else:\n",
    "            if root.right==None:\n",
    "                root.right=new_node\n",
    "            else:\n",
    "                return insert(root.right,data)\n",
    "\n",
    "def in_order(root):\n",
    "    if not root:\n",
    "        return\n",
    "    in_order(root.left)\n",
    "        \n",
    "    print(root.data,end=\" \")\n",
    "        \n",
    "    in_order(root.right)  \n",
    "    \n",
    "def find(root,data):\n",
    "    current = root\n",
    "    while current is not None:\n",
    "        if data == current.data:\n",
    "            return current\n",
    "        if data > current.data:\n",
    "            current = current.right\n",
    "        else:\n",
    "            current = current.left\n",
    "    return None\n",
    "\n",
    "def find_min(root):\n",
    "    current = root\n",
    "    if current.left is None:\n",
    "        return current.data\n",
    "    else:\n",
    "        return find_min(current.left)\n",
    "    \n",
    "def find_max(root):\n",
    "    current = root\n",
    "    if current.right is None:\n",
    "        return current.data\n",
    "    else:\n",
    "        return find_max(current.right)\n",
    "    \n",
    "def least_common_ancestor(root,a,b):\n",
    "    while root:\n",
    "        if (a<=root.data and b>root.data) or (a > root.data and b <= root.data):\n",
    "            return root.data\n",
    "        if (a < root.data):\n",
    "            root=root.left\n",
    "        else:\n",
    "            root=root.right\n",
    "            \n"
   ]
  },
  {
   "cell_type": "code",
   "execution_count": 73,
   "metadata": {},
   "outputs": [],
   "source": [
    "bst1 = BST(6)"
   ]
  },
  {
   "cell_type": "code",
   "execution_count": 74,
   "metadata": {},
   "outputs": [],
   "source": [
    "insert(bst1,8)\n",
    "insert(bst1,1)\n",
    "insert(bst1,7)"
   ]
  },
  {
   "cell_type": "code",
   "execution_count": 75,
   "metadata": {},
   "outputs": [
    {
     "name": "stdout",
     "output_type": "stream",
     "text": [
      "1 6 7 8 "
     ]
    }
   ],
   "source": [
    "in_order(bst1)"
   ]
  },
  {
   "cell_type": "code",
   "execution_count": 76,
   "metadata": {},
   "outputs": [],
   "source": [
    "find(bst1,9)"
   ]
  },
  {
   "cell_type": "code",
   "execution_count": 77,
   "metadata": {},
   "outputs": [
    {
     "data": {
      "text/plain": [
       "1"
      ]
     },
     "execution_count": 77,
     "metadata": {},
     "output_type": "execute_result"
    }
   ],
   "source": [
    "find_min(bst1)"
   ]
  },
  {
   "cell_type": "code",
   "execution_count": 78,
   "metadata": {},
   "outputs": [
    {
     "data": {
      "text/plain": [
       "8"
      ]
     },
     "execution_count": 78,
     "metadata": {},
     "output_type": "execute_result"
    }
   ],
   "source": [
    "find_max(bst1)"
   ]
  },
  {
   "cell_type": "code",
   "execution_count": 79,
   "metadata": {},
   "outputs": [
    {
     "data": {
      "text/plain": [
       "6"
      ]
     },
     "execution_count": 79,
     "metadata": {},
     "output_type": "execute_result"
    }
   ],
   "source": [
    "least_common_ancestor(bst1,1,7)"
   ]
  },
  {
   "cell_type": "code",
   "execution_count": 80,
   "metadata": {},
   "outputs": [],
   "source": [
    "#Total number of possible Binary Search Trees with n different keys (countBST(n)) = Catalan number Cn = (2n)!/(n+1)!*n!"
   ]
  },
  {
   "cell_type": "code",
   "execution_count": 94,
   "metadata": {},
   "outputs": [],
   "source": [
    "class Node:\n",
    "    \n",
    "    def __init__(self):\n",
    "        self.data=None\n",
    "        self.left=None\n",
    "        self.right=None\n",
    "# built BST from array\n",
    "\n",
    "def built_BST(A,left,right):\n",
    "    if left > right:\n",
    "        return None\n",
    "    new_node = Node()\n",
    "    if left==right:\n",
    "        new_node.data = A[left]\n",
    "        new_node.left = None\n",
    "        new_node.right = None\n",
    "    else:\n",
    "        mid = left+(right-left)//2\n",
    "        new_node.data=A[mid]\n",
    "        new_node.left= built_BST(A,left,mid-1)\n",
    "        new_node.right = built_BST(A,mid+1,right)\n",
    "    return new_node\n",
    "A=[1,2,3,4,5,6,7]\n",
    "root = built_BST(A,0,len(A)-1)"
   ]
  },
  {
   "cell_type": "code",
   "execution_count": 95,
   "metadata": {},
   "outputs": [
    {
     "name": "stdout",
     "output_type": "stream",
     "text": [
      "1 2 3 4 5 6 7 "
     ]
    }
   ],
   "source": [
    "in_order(root)"
   ]
  },
  {
   "cell_type": "code",
   "execution_count": null,
   "metadata": {},
   "outputs": [],
   "source": []
  }
 ],
 "metadata": {
  "kernelspec": {
   "display_name": "Python 3",
   "language": "python",
   "name": "python3"
  },
  "language_info": {
   "codemirror_mode": {
    "name": "ipython",
    "version": 3
   },
   "file_extension": ".py",
   "mimetype": "text/x-python",
   "name": "python",
   "nbconvert_exporter": "python",
   "pygments_lexer": "ipython3",
   "version": "3.7.1"
  }
 },
 "nbformat": 4,
 "nbformat_minor": 2
}
