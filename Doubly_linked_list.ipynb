{
 "cells": [
  {
   "cell_type": "code",
   "execution_count": 65,
   "metadata": {},
   "outputs": [],
   "source": [
    "class Node:\n",
    "    \n",
    "    def __init__(self):\n",
    "        self.data=None\n",
    "        self.next=None\n",
    "        self.prev=None\n",
    "\n",
    "class Dlinked_list:\n",
    "    \n",
    "    def __init__(self):\n",
    "        self.head = None\n",
    "        self.length=0\n",
    "        \n",
    "    def list_length(self):\n",
    "        current=self.head\n",
    "        count=0\n",
    "        \n",
    "        while current!=None:\n",
    "            print(current.data,end=\"->\")\n",
    "            count+=1\n",
    "            current = current.next\n",
    "        \n",
    "        return count\n",
    "    \n",
    "    \n",
    "    def insert_begining(self,data):\n",
    "        new_node = Node()\n",
    "        new_node.data=data\n",
    "        \n",
    "        if self.head == None:\n",
    "            self.head=self.tail=new_node\n",
    "        else:\n",
    "            new_node.next=self.head\n",
    "            self.head=new_node\n",
    "        \n",
    "        self.length+=1\n",
    "        \n",
    "    def insert_end(self,data):\n",
    "        new_node = Node()\n",
    "        new_node.data=data\n",
    "        \n",
    "        if self.head == None :\n",
    "            self.head=new_node\n",
    "        else:\n",
    "            current = self.head\n",
    "            \n",
    "            while current.next != None:\n",
    "                current = current.next\n",
    "            \n",
    "            current.next=new_node\n",
    "        self.length+=1\n",
    "        \n",
    "    def delete_begining(self):\n",
    "        if self.head == None:\n",
    "            print(\"list empty\")\n",
    "        else:\n",
    "            if self.head.next == None:\n",
    "                self.head=None\n",
    "            else:\n",
    "                self.head = self.head.next\n",
    "                self.head.prev = None\n",
    "        \n",
    "        self.length-=1\n",
    "    \n",
    "            "
   ]
  },
  {
   "cell_type": "code",
   "execution_count": 66,
   "metadata": {},
   "outputs": [],
   "source": [
    "l1 = Dlinked_list()"
   ]
  },
  {
   "cell_type": "code",
   "execution_count": 67,
   "metadata": {},
   "outputs": [],
   "source": [
    "l1.insert_begining(5)"
   ]
  },
  {
   "cell_type": "code",
   "execution_count": 68,
   "metadata": {},
   "outputs": [
    {
     "name": "stdout",
     "output_type": "stream",
     "text": [
      "5->"
     ]
    },
    {
     "data": {
      "text/plain": [
       "1"
      ]
     },
     "execution_count": 68,
     "metadata": {},
     "output_type": "execute_result"
    }
   ],
   "source": [
    "l1.list_length()"
   ]
  },
  {
   "cell_type": "code",
   "execution_count": 69,
   "metadata": {},
   "outputs": [],
   "source": [
    "l1.insert_end(10)"
   ]
  },
  {
   "cell_type": "code",
   "execution_count": 70,
   "metadata": {},
   "outputs": [
    {
     "name": "stdout",
     "output_type": "stream",
     "text": [
      "5->10->"
     ]
    },
    {
     "data": {
      "text/plain": [
       "2"
      ]
     },
     "execution_count": 70,
     "metadata": {},
     "output_type": "execute_result"
    }
   ],
   "source": [
    "l1.list_length()"
   ]
  },
  {
   "cell_type": "code",
   "execution_count": 73,
   "metadata": {},
   "outputs": [],
   "source": [
    "l1.delete_begining()"
   ]
  },
  {
   "cell_type": "code",
   "execution_count": 74,
   "metadata": {},
   "outputs": [
    {
     "data": {
      "text/plain": [
       "0"
      ]
     },
     "execution_count": 74,
     "metadata": {},
     "output_type": "execute_result"
    }
   ],
   "source": [
    "l1.list_length()"
   ]
  },
  {
   "cell_type": "code",
   "execution_count": 75,
   "metadata": {},
   "outputs": [
    {
     "data": {
      "text/plain": [
       "2561265645328"
      ]
     },
     "execution_count": 75,
     "metadata": {},
     "output_type": "execute_result"
    }
   ],
   "source": [
    "id(l1)"
   ]
  },
  {
   "cell_type": "code",
   "execution_count": 76,
   "metadata": {},
   "outputs": [
    {
     "name": "stdout",
     "output_type": "stream",
     "text": [
      "<class '__main__.Node'>\n"
     ]
    }
   ],
   "source": [
    "print(Node)"
   ]
  },
  {
   "cell_type": "code",
   "execution_count": null,
   "metadata": {},
   "outputs": [],
   "source": []
  }
 ],
 "metadata": {
  "kernelspec": {
   "display_name": "Python 3",
   "language": "python",
   "name": "python3"
  },
  "language_info": {
   "codemirror_mode": {
    "name": "ipython",
    "version": 3
   },
   "file_extension": ".py",
   "mimetype": "text/x-python",
   "name": "python",
   "nbconvert_exporter": "python",
   "pygments_lexer": "ipython3",
   "version": "3.7.1"
  }
 },
 "nbformat": 4,
 "nbformat_minor": 2
}
